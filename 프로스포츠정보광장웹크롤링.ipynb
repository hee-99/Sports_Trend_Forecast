{
 "cells": [
  {
   "cell_type": "code",
   "execution_count": 2,
   "metadata": {},
   "outputs": [],
   "source": [
    "from selenium import webdriver\n",
    "from selenium.webdriver.chrome.service import Service\n",
    "from selenium.webdriver.chrome.options import Options\n",
    "from selenium.webdriver.common.keys import Keys\n",
    "from selenium.webdriver.common.by import By\n",
    "from webdriver_manager.chrome import ChromeDriverManager\n",
    "import time\n",
    "from bs4 import BeautifulSoup\n",
    "import requests\n",
    "from openpyxl import *\n",
    "import pandas as pd\n",
    "import subprocess\n",
    "import re\n",
    "from urllib.request import urlopen"
   ]
  },
  {
   "cell_type": "code",
   "execution_count": 3,
   "metadata": {},
   "outputs": [],
   "source": [
    "options = Options()\n",
    "##\n",
    "# 크롬 브라우저 동작방식 설정\n",
    "options.add_argument(\"--start-maximized\") # 브라우저 전체화면\n",
    "options.add_experimental_option(\"detach\", True) # 셀레니움이 종료되어도 창이 자동으로 닫히지 않게 함.\n",
    "options.add_argument(\"--disable-blink-features=AutomationControlled\")\n",
    "##\n",
    "service = Service(ChromeDriverManager().install())\n",
    "driver = webdriver.Chrome(service=service, options=options)\n",
    "\n",
    "url = 'http://data.prosports.or.kr/page/spectator/date'\n",
    "\n",
    "driver.get(url)\n",
    "time.sleep(2)"
   ]
  },
  {
   "cell_type": "code",
   "execution_count": 8,
   "metadata": {},
   "outputs": [
    {
     "name": "stdout",
     "output_type": "stream",
     "text": [
      "<class 'pandas.core.frame.DataFrame'>\n",
      "RangeIndex: 1742 entries, 0 to 1741\n",
      "Data columns (total 8 columns):\n",
      " #   Column  Non-Null Count  Dtype \n",
      "---  ------  --------------  ----- \n",
      " 0   날짜      1742 non-null   object\n",
      " 1   시간      1742 non-null   object\n",
      " 2   단체/구단   1742 non-null   object\n",
      " 3   경기      1742 non-null   object\n",
      " 4   장소      1742 non-null   object\n",
      " 5   결과      1742 non-null   object\n",
      " 6   날씨      1742 non-null   object\n",
      " 7   관중수     1742 non-null   object\n",
      "dtypes: object(8)\n",
      "memory usage: 109.0+ KB\n"
     ]
    }
   ],
   "source": [
    "soup = BeautifulSoup(driver.page_source, 'html.parser')\n",
    "\n",
    "# html 확인/ 필요한 정보가 들어있는 태그 추출\n",
    "temperature1 = soup.find_all('div','filt_th') # 내장함수 find가 아님\n",
    "table = soup.find('div', 'scrollBody') # 테이블들의 데이터 가져오기기\n",
    "\n",
    "\n",
    "# 테이블 데이터 행 찾기 (모든 <tr> 태그)\n",
    "rows = table.find_all('tr')\n",
    "\n",
    "# 데이터를 담을 리스트\n",
    "data = []\n",
    "\n",
    "# 각 행에서 데이터 추출\n",
    "for row in rows:\n",
    "    # 헤더 행(<th>)은 건너뛰기\n",
    "    if row.find('th'):\n",
    "        continue\n",
    "    \n",
    "    # 데이터 행의 <td> 태그 찾기\n",
    "    cols = row.find_all('td')\n",
    "    # <td> 안의 <p> 태그의 텍스트를 가져오기\n",
    "    cols = [col.find('p').text.strip() if col.find('p') else '' for col in cols]\n",
    "    if any(cols):  # 값이 하나라도 존재하는 경우에만 추가\n",
    "        data.append(cols)\n",
    "\n",
    "# 열이름 가져오기기\n",
    "columns = [col_1.p.text.strip() for col_1 in temperature1]\n",
    "\n",
    "# 데이터 값들 가져오기기\n",
    "data_dict = [dict(zip(columns, row)) for row in data]\n",
    "\n",
    "# 데이터 프레임으로 변환환\n",
    "df = pd.DataFrame(data_dict)\n",
    "\n",
    "# 데이터 형태 확인\n",
    "df.info()"
   ]
  },
  {
   "cell_type": "code",
   "execution_count": 10,
   "metadata": {},
   "outputs": [],
   "source": [
    "# CSV 파일로 저장 (utf-8-sig 인코딩 적용)\n",
    "df.to_csv('종목별_장소_관중수.csv', index=False, encoding='utf-8-sig')"
   ]
  }
 ],
 "metadata": {
  "kernelspec": {
   "display_name": "Python 3",
   "language": "python",
   "name": "python3"
  },
  "language_info": {
   "codemirror_mode": {
    "name": "ipython",
    "version": 3
   },
   "file_extension": ".py",
   "mimetype": "text/x-python",
   "name": "python",
   "nbconvert_exporter": "python",
   "pygments_lexer": "ipython3",
   "version": "3.12.7"
  }
 },
 "nbformat": 4,
 "nbformat_minor": 2
}
